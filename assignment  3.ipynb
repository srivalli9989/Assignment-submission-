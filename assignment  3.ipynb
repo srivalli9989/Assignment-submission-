{
 "cells": [
  {
   "cell_type": "code",
   "execution_count": 1,
   "metadata": {},
   "outputs": [
    {
     "data": {
      "text/plain": [
       "array([ 2,  5,  8, 11, 14, 17, 20, 23, 26, 29, 32, 35, 38, 41, 44, 47])"
      ]
     },
     "execution_count": 1,
     "metadata": {},
     "output_type": "execute_result"
    }
   ],
   "source": [
    "# question 1\n",
    "\n",
    "import numpy as np\n",
    "\n",
    "np.arange(2,50,3)"
   ]
  },
  {
   "cell_type": "code",
   "execution_count": 2,
   "metadata": {},
   "outputs": [
    {
     "name": "stdout",
     "output_type": "stream",
     "text": [
      "enter the values for list1: 23\n",
      "enter the values for list1: 21\n",
      "enter the values for list1: 3\n",
      "enter the values for list1: 6\n",
      "enter the values for list1: 34\n",
      "enter the value for list2: 5\n",
      "enter the value for list2: 78\n",
      "enter the value for list2: 43\n",
      "enter the value for list2: 1\n",
      "enter the value for list2: 98\n",
      "concatenated array: [23 21  3  6 34  5 78 43  1 98]\n",
      "sorted array: [ 1  3  5  6 21 23 34 43 78 98]\n"
     ]
    }
   ],
   "source": [
    "# question 2\n",
    "\n",
    "import numpy as np\n",
    "list1=[]\n",
    "list2=[]\n",
    "for i in range(5):\n",
    "    x=int(input(\"enter the values for list1: \"))\n",
    "    list1.append(x)\n",
    "for i in range(5):\n",
    "    x=int(input(\"enter the value for list2: \"))\n",
    "    list2.append(x)\n",
    "arr1=np.array(list1)\n",
    "arr2=np.array(list2)\n",
    "arr=np.concatenate((arr1,arr2))\n",
    "print(\"concatenated array:\",arr)\n",
    "sortArr=np.sort(arr)\n",
    "print(\"sorted array:\",sortArr)"
   ]
  },
  {
   "cell_type": "code",
   "execution_count": null,
   "metadata": {},
   "outputs": [],
   "source": [
    "# question 3\n",
    "\n",
    "arr=np.array([[1,2,3],[4,5,6]])\n",
    "print(\"dimensions in array:\",arr.ndim)\n",
    "print(\"size of array:\",arr.size)"
   ]
  },
  {
   "cell_type": "code",
   "execution_count": 4,
   "metadata": {},
   "outputs": [
    {
     "name": "stdout",
     "output_type": "stream",
     "text": [
      "shape of array: (15,)\n",
      "shape of 2d array in row: (1, 15)\n",
      "shape of 2d array in col: (15, 1)\n"
     ]
    }
   ],
   "source": [
    "# question 4 (np.newaxis)\n",
    "\n",
    "import numpy as np\n",
    "arr=np.arange(15)\n",
    "print(\"shape of array:\",arr.shape)\n",
    "rowarr=arr[np.newaxis,:]\n",
    "print(\"shape of 2d array in row:\",rowarr.shape)\n",
    "colarr=arr[:,np.newaxis]\n",
    "print(\"shape of 2d array in col:\",colarr.shape)\n",
    "\n"
   ]
  },
  {
   "cell_type": "code",
   "execution_count": 9,
   "metadata": {},
   "outputs": [
    {
     "name": "stdout",
     "output_type": "stream",
     "text": [
      "shape of array: (15,)\n",
      "shape of 2d array in row: (1, 15)\n",
      "shape of 2d array in col: (15, 1)\n"
     ]
    }
   ],
   "source": [
    "# question 4 (np.expand_dims)\n",
    "\n",
    "import numpy as np\n",
    "arr=np.arange(15)\n",
    "print(\"shape of array:\",arr.shape)\n",
    "rowarr=np.expand_dims(arr,axis=0)\n",
    "print(\"shape of 2d array in row:\",rowarr.shape)\n",
    "colarr=np.expand_dims(arr,axis=1)\n",
    "print(\"shape of 2d array in col:\",colarr.shape)\n"
   ]
  },
  {
   "cell_type": "code",
   "execution_count": 6,
   "metadata": {},
   "outputs": [
    {
     "name": "stdout",
     "output_type": "stream",
     "text": [
      "horizontal append: [  1   4   9  16  25  36  49  64  81 100]\n",
      "vertical append: [[  1   4   9  16  25]\n",
      " [ 36  49  64  81 100]]\n"
     ]
    }
   ],
   "source": [
    "# question 5  (np.hstack, np.vstack)\n",
    "\n",
    "import numpy as np\n",
    "arr1=np.square([1,2,3,4,5])\n",
    "arr2=np.square([6,7,8,9,10])\n",
    "print(\"horizontal append:\",np.hstack((arr1,arr2)))\n",
    "print(\"vertical append:\",np.vstack((arr1,arr2)))\n"
   ]
  },
  {
   "cell_type": "code",
   "execution_count": 10,
   "metadata": {},
   "outputs": [
    {
     "name": "stdout",
     "output_type": "stream",
     "text": [
      "[[ 1  2]\n",
      " [ 2  2]\n",
      " [ 3  2]\n",
      " [ 4  2]\n",
      " [ 5  1]\n",
      " [ 6  2]\n",
      " [ 9  2]\n",
      " [15  1]]\n"
     ]
    }
   ],
   "source": [
    "# question 6 \n",
    "\n",
    "import numpy as np\n",
    "arr1=np.array([4,1,15,9,1,4,2,3,2,5,6,3,6,9])\n",
    "unique,counts=np.unique(arr1,return_counts=True)\n",
    "arr=np.asarray((unique,counts)).T\n",
    "print(arr)"
   ]
  },
  {
   "cell_type": "code",
   "execution_count": null,
   "metadata": {},
   "outputs": [],
   "source": []
  }
 ],
 "metadata": {
  "kernelspec": {
   "display_name": "Python 3",
   "language": "python",
   "name": "python3"
  },
  "language_info": {
   "codemirror_mode": {
    "name": "ipython",
    "version": 3
   },
   "file_extension": ".py",
   "mimetype": "text/x-python",
   "name": "python",
   "nbconvert_exporter": "python",
   "pygments_lexer": "ipython3",
   "version": "3.8.3"
  }
 },
 "nbformat": 4,
 "nbformat_minor": 4
}
