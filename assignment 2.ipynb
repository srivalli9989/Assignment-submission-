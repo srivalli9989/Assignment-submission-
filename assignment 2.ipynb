{
 "cells": [
  {
   "cell_type": "code",
   "execution_count": 27,
   "metadata": {},
   "outputs": [
    {
     "name": "stdout",
     "output_type": "stream",
     "text": [
      "enter a number:5\n",
      "{1: 1, 2: 4, 3: 9, 4: 16, 5: 25}\n"
     ]
    }
   ],
   "source": [
    "# question 3\n",
    "\n",
    "\n",
    "s=int(input(\"enter a number:\"))\n",
    "d = dict()\n",
    "\n",
    "for x in range(1,s+1):\n",
    "    d[x]=x*x\n",
    "\n",
    "print(d) "
   ]
  },
  {
   "cell_type": "code",
   "execution_count": 28,
   "metadata": {},
   "outputs": [
    {
     "name": "stdout",
     "output_type": "stream",
     "text": [
      "[]\n",
      "2 4 6 8 10 "
     ]
    }
   ],
   "source": [
    "# question 1\n",
    "\n",
    "\n",
    "list=[]\n",
    "print(list)\n",
    "list=[1,2,3,4,5,6,7,8,9,10]\n",
    "for i in list:\n",
    "    if i%2==0:\n",
    "        print(i,end=\" \")"
   ]
  },
  {
   "cell_type": "code",
   "execution_count": 32,
   "metadata": {},
   "outputs": [
    {
     "name": "stdout",
     "output_type": "stream",
     "text": [
      "5\n",
      "6\n",
      "3\n",
      "6\n",
      "3\n",
      "2\n",
      "0\n"
     ]
    }
   ],
   "source": [
    "# question 4\n",
    "\n",
    "\n",
    "pos = {\"x\":0,\"y\":0}\n",
    "num = int(input())\n",
    "\n",
    "for _ in range (num):\n",
    "    command =  input().split(\" \")      \n",
    "    if command[0] == \"UP\":          \n",
    "        pos[\"y\"] += int(command[1])    \n",
    "    if command[0] == \"DOWN\":\n",
    "        pos[\"y\"] -= int(command[1])\n",
    "    if command[0] == \"LEFT\":\n",
    "        pos[\"x\"] -= int(command[1])\n",
    "    if command[0] == \"RIGHT\":\n",
    "        pos[\"x\"] += int(command[1])\n",
    "\n",
    "print(int(round((pos[\"x\"]**2 + pos[\"y\"]**2)**0.5))) "
   ]
  },
  {
   "cell_type": "code",
   "execution_count": 30,
   "metadata": {},
   "outputs": [
    {
     "name": "stdout",
     "output_type": "stream",
     "text": [
      "ans: [1, 4, 9, 16, 25, 36, 49]\n"
     ]
    }
   ],
   "source": [
    "# question 2\n",
    "\n",
    "\n",
    "list=[]\n",
    "for i in range(1,8):\n",
    "    list.append(i**2)\n",
    "print(\"ans:\",list)"
   ]
  }
 ],
 "metadata": {
  "kernelspec": {
   "display_name": "Python 3",
   "language": "python",
   "name": "python3"
  },
  "language_info": {
   "codemirror_mode": {
    "name": "ipython",
    "version": 3
   },
   "file_extension": ".py",
   "mimetype": "text/x-python",
   "name": "python",
   "nbconvert_exporter": "python",
   "pygments_lexer": "ipython3",
   "version": "3.8.3"
  }
 },
 "nbformat": 4,
 "nbformat_minor": 4
}
